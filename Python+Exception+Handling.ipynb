{
 "cells": [
  {
   "cell_type": "markdown",
   "metadata": {},
   "source": [
    "# Python Try Except\n",
    "* The try block lets you test a block of code for errors.\n",
    "\n",
    "* The except block lets you handle the error.\n",
    "\n",
    "* The finally block lets you execute code, regardless of the result of the try- and except blocks.\n",
    "\n",
    "## Exception Handling\n",
    "* When an error occurs, or exception as we call it, Python will normally stop and generate an error message.\n",
    "\n",
    "* These exceptions can be handled using the try statement:\n",
    "\n",
    "Example\n",
    "The try block will generate an exception, because x is not defined:\n",
    "\n"
   ]
  },
  {
   "cell_type": "markdown",
   "metadata": {},
   "source": [
    "Exceptions versus Syntax Errors\n",
    "Syntax errors occur when the parser detects an incorrect statement. Observe the following example:"
   ]
  },
  {
   "cell_type": "code",
   "execution_count": 3,
   "metadata": {
    "scrolled": true
   },
   "outputs": [
    {
     "ename": "ZeroDivisionError",
     "evalue": "division by zero",
     "output_type": "error",
     "traceback": [
      "\u001b[1;31m---------------------------------------------------------------------------\u001b[0m",
      "\u001b[1;31mZeroDivisionError\u001b[0m                         Traceback (most recent call last)",
      "\u001b[1;32m<ipython-input-3-f5008b880c58>\u001b[0m in \u001b[0;36m<module>\u001b[1;34m\u001b[0m\n\u001b[1;32m----> 1\u001b[1;33m \u001b[0mprint\u001b[0m\u001b[1;33m(\u001b[0m \u001b[1;36m0\u001b[0m \u001b[1;33m/\u001b[0m \u001b[1;36m0\u001b[0m \u001b[1;33m)\u001b[0m\u001b[1;33m\u001b[0m\u001b[1;33m\u001b[0m\u001b[0m\n\u001b[0m",
      "\u001b[1;31mZeroDivisionError\u001b[0m: division by zero"
     ]
    }
   ],
   "source": [
    "print( 0 / 0 )"
   ]
  },
  {
   "cell_type": "markdown",
   "metadata": {},
   "source": [
    "This time, you ran into an exception error. This type of error occurs whenever syntactically correct Python code results in an error. The last line of the message indicated what type of exception error you ran into.\n",
    "\n",
    "Instead of showing the message exception error, Python details what type of exception error was encountered. In this case, it was a ZeroDivisionError. Python comes with various built-in exceptions as well as the possibility to create self-defined exceptions.\n",
    "\n",
    "# Raising an Exception\n",
    "We can use raise to throw an exception if a condition occurs. The statement can be complemented with a custom exception.\n",
    "\n",
    "If you want to throw an error when a certain condition occurs using raise, you could go about it like this:\n",
    "\n"
   ]
  },
  {
   "cell_type": "code",
   "execution_count": 5,
   "metadata": {},
   "outputs": [
    {
     "name": "stdout",
     "output_type": "stream",
     "text": [
      "Enter the number of login: 6\n"
     ]
    },
    {
     "ename": "Exception",
     "evalue": "x should not exceed 5. The value of x was: 6",
     "output_type": "error",
     "traceback": [
      "\u001b[1;31m---------------------------------------------------------------------------\u001b[0m",
      "\u001b[1;31mException\u001b[0m                                 Traceback (most recent call last)",
      "\u001b[1;32m<ipython-input-5-ba45073d876e>\u001b[0m in \u001b[0;36m<module>\u001b[1;34m\u001b[0m\n\u001b[0;32m      1\u001b[0m \u001b[0mx\u001b[0m \u001b[1;33m=\u001b[0m \u001b[0mint\u001b[0m\u001b[1;33m(\u001b[0m\u001b[0minput\u001b[0m\u001b[1;33m(\u001b[0m\u001b[1;34m\"Enter the number of login: \"\u001b[0m\u001b[1;33m)\u001b[0m\u001b[1;33m)\u001b[0m\u001b[1;33m\u001b[0m\u001b[1;33m\u001b[0m\u001b[0m\n\u001b[0;32m      2\u001b[0m \u001b[1;32mif\u001b[0m \u001b[0mx\u001b[0m \u001b[1;33m>\u001b[0m \u001b[1;36m5\u001b[0m\u001b[1;33m:\u001b[0m\u001b[1;33m\u001b[0m\u001b[1;33m\u001b[0m\u001b[0m\n\u001b[1;32m----> 3\u001b[1;33m     \u001b[1;32mraise\u001b[0m \u001b[0mException\u001b[0m\u001b[1;33m(\u001b[0m\u001b[1;34m'x should not exceed 5. The value of x was: {}'\u001b[0m\u001b[1;33m.\u001b[0m\u001b[0mformat\u001b[0m\u001b[1;33m(\u001b[0m\u001b[0mx\u001b[0m\u001b[1;33m)\u001b[0m\u001b[1;33m)\u001b[0m\u001b[1;33m\u001b[0m\u001b[1;33m\u001b[0m\u001b[0m\n\u001b[0m",
      "\u001b[1;31mException\u001b[0m: x should not exceed 5. The value of x was: 6"
     ]
    }
   ],
   "source": [
    "x = int(input(\"Enter the number of login: \"))\n",
    "if x > 5:\n",
    "    raise Exception('x should not exceed 5. The value of x was: {}'.format(x))"
   ]
  },
  {
   "cell_type": "markdown",
   "metadata": {},
   "source": [
    "The program comes to a halt and displays our exception to screen, offering clues about what went wrong.\n",
    "\n",
    "# The AssertionError Exception\n",
    "Instead of waiting for a program to crash midway, you can also start by making an assertion in Python. We assert that a certain condition is met. If this condition turns out to be True, then that is excellent! The program can continue. If the condition turns out to be False, you can have the program throw an AssertionError exception.\n",
    "\n",
    "Have a look at the following example, where it is asserted that the code will be executed on a Linux system:\n",
    "\n"
   ]
  },
  {
   "cell_type": "code",
   "execution_count": 6,
   "metadata": {},
   "outputs": [
    {
     "ename": "AssertionError",
     "evalue": "This code runs on Linux only.",
     "output_type": "error",
     "traceback": [
      "\u001b[1;31m---------------------------------------------------------------------------\u001b[0m",
      "\u001b[1;31mAssertionError\u001b[0m                            Traceback (most recent call last)",
      "\u001b[1;32m<ipython-input-6-e31e8d82fd13>\u001b[0m in \u001b[0;36m<module>\u001b[1;34m\u001b[0m\n\u001b[0;32m      1\u001b[0m \u001b[1;32mimport\u001b[0m \u001b[0msys\u001b[0m\u001b[1;33m\u001b[0m\u001b[1;33m\u001b[0m\u001b[0m\n\u001b[1;32m----> 2\u001b[1;33m \u001b[1;32massert\u001b[0m \u001b[1;33m(\u001b[0m\u001b[1;34m'linux'\u001b[0m \u001b[1;32min\u001b[0m \u001b[0msys\u001b[0m\u001b[1;33m.\u001b[0m\u001b[0mplatform\u001b[0m\u001b[1;33m)\u001b[0m\u001b[1;33m,\u001b[0m \u001b[1;34m\"This code runs on Linux only.\"\u001b[0m\u001b[1;33m\u001b[0m\u001b[1;33m\u001b[0m\u001b[0m\n\u001b[0m",
      "\u001b[1;31mAssertionError\u001b[0m: This code runs on Linux only."
     ]
    }
   ],
   "source": [
    "import sys\n",
    "assert ('linux' in sys.platform), \"This code runs on Linux only.\"\n"
   ]
  },
  {
   "cell_type": "markdown",
   "metadata": {},
   "source": [
    "If you run this code on a Linux machine, the assertion passes. If you were to run this code on a Windows machine, the outcome of the assertion would be False and the result would be the following:\n",
    "\n"
   ]
  },
  {
   "cell_type": "markdown",
   "metadata": {},
   "source": [
    "# The try and except Block: Handling Exceptions\n",
    "The try and except block in Python is used to catch and handle exceptions. Python executes code following the try statement as a “normal” part of the program. The code that follows the except statement is the program’s response to any exceptions in the preceding try clause."
   ]
  },
  {
   "cell_type": "code",
   "execution_count": 8,
   "metadata": {},
   "outputs": [
    {
     "name": "stdout",
     "output_type": "stream",
     "text": [
      "An exception occurred\n",
      "next module\n"
     ]
    }
   ],
   "source": [
    "# x1 = 123\n",
    "# print(x1)\n",
    "try:\n",
    "    print(x1)\n",
    "except:\n",
    "    print(\"An exception occurred\")\n",
    "print(\"next module\")"
   ]
  },
  {
   "cell_type": "markdown",
   "metadata": {},
   "source": [
    "Since the try block raises an error, the except block will be executed.\n",
    "\n",
    "Without the try block, the program will crash and raise an error:\n",
    "\n",
    "Example\n",
    "This statement will raise an error, because x is not defined:\n",
    "\n",
    "print(x)\n",
    "Many Exceptions\n",
    "You can define as many exception blocks as you want, e.g. if you want to execute a special block of code for a special kind of error:\n",
    "\n",
    "Example\n",
    "Print one message if the try block raises a NameError and another for other errors:\n",
    "\n"
   ]
  },
  {
   "cell_type": "code",
   "execution_count": 10,
   "metadata": {},
   "outputs": [
    {
     "name": "stdout",
     "output_type": "stream",
     "text": [
      "divide by 0 error\n"
     ]
    }
   ],
   "source": [
    "try:\n",
    "#     print(abcd)\n",
    "  print(0/0)\n",
    "except NameError:\n",
    "    print(\"Variable abcd is not defined\")\n",
    "except ZeroDivisionError:\n",
    "    print(\"divide by 0 error\")\n",
    "except:\n",
    "    print(\"Something else went wrong\")"
   ]
  },
  {
   "cell_type": "markdown",
   "metadata": {},
   "source": [
    "Else\n",
    "You can use the else keyword to define a block of code to be executed if no errors were raised:\n",
    "\n",
    "Example\n",
    "In this example, the try block does not generate any error:\n",
    "\n"
   ]
  },
  {
   "cell_type": "code",
   "execution_count": 13,
   "metadata": {},
   "outputs": [
    {
     "name": "stdout",
     "output_type": "stream",
     "text": [
      "Nothing went wrong\n"
     ]
    }
   ],
   "source": [
    "try:\n",
    "#     pass\n",
    "    print(0/0)\n",
    "except:\n",
    "    print(\"Something went wrong\")\n",
    "else:\n",
    "    print(\"Nothing went wrong\")\n"
   ]
  },
  {
   "cell_type": "markdown",
   "metadata": {},
   "source": [
    "Finally\n",
    "The finally block, if specified, will be executed regardless if the try block raises an error or not.\n",
    "\n",
    "Example\n"
   ]
  },
  {
   "cell_type": "code",
   "execution_count": null,
   "metadata": {},
   "outputs": [],
   "source": [
    "# x2= 10\n",
    "try:\n",
    "    print(x2)\n",
    "except:\n",
    "    print(\"Something went wrong\")\n",
    "finally:\n",
    "    print(\"The 'try except' is finished\")"
   ]
  },
  {
   "cell_type": "markdown",
   "metadata": {},
   "source": [
    "This can be useful to close objects and clean up resources:\n",
    "\n",
    "Example\n",
    "Try to open and write to a file that is not writable:\n",
    "\n"
   ]
  },
  {
   "cell_type": "code",
   "execution_count": 15,
   "metadata": {},
   "outputs": [
    {
     "name": "stdout",
     "output_type": "stream",
     "text": [
      "it is an io error\n"
     ]
    }
   ],
   "source": [
    "# try:\n",
    "#     f = open(r\"demofile.txt\")\n",
    "#     f.write(\"Lorum Ipsum\")\n",
    "# except:\n",
    "#     print(\"Something went wrong when writing to the file\")\n",
    "# finally:\n",
    "#     f.close()\n",
    "    \n",
    "try:\n",
    "#     print(x12)\n",
    "    f = open(r\"newlfile.txt\")\n",
    "    \n",
    "except IOError :\n",
    "    print(\"it is an io error\")\n",
    "except NameError : \n",
    "    print(\"This is nameerror\")\n",
    "except:\n",
    "    print(\"testing\")\n"
   ]
  },
  {
   "cell_type": "markdown",
   "metadata": {},
   "source": [
    "The program can continue, without leaving the file object open."
   ]
  }
 ],
 "metadata": {
  "kernelspec": {
   "display_name": "Python 3",
   "language": "python",
   "name": "python3"
  },
  "language_info": {
   "codemirror_mode": {
    "name": "ipython",
    "version": 3
   },
   "file_extension": ".py",
   "mimetype": "text/x-python",
   "name": "python",
   "nbconvert_exporter": "python",
   "pygments_lexer": "ipython3",
   "version": "3.7.3"
  }
 },
 "nbformat": 4,
 "nbformat_minor": 2
}
