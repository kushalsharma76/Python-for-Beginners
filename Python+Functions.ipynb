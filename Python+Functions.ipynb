{
 "cells": [
  {
   "cell_type": "code",
   "execution_count": 1,
   "metadata": {},
   "outputs": [],
   "source": [
    "# Defininf a function\n",
    "# def - keyword for defining a function\n",
    "# MyFunc - Name of the function\n",
    "# () - round braces are a part of defining a function. They are used to take some parameters as argument.\n",
    "\n",
    "def MyFunc():\n",
    "    print('Hello')"
   ]
  },
  {
   "cell_type": "code",
   "execution_count": 2,
   "metadata": {
    "scrolled": true
   },
   "outputs": [
    {
     "name": "stdout",
     "output_type": "stream",
     "text": [
      "Hello\n"
     ]
    }
   ],
   "source": [
    "#Calling a function\n",
    "MyFunc()"
   ]
  },
  {
   "cell_type": "code",
   "execution_count": 3,
   "metadata": {},
   "outputs": [],
   "source": [
    "def MyFunc(a):\n",
    "    print('The value in a is ',a)"
   ]
  },
  {
   "cell_type": "code",
   "execution_count": 4,
   "metadata": {},
   "outputs": [
    {
     "name": "stdout",
     "output_type": "stream",
     "text": [
      "The value in a is  asd\n",
      "The value in a is  Default\n",
      "The value in a is  Indeed Inspiring\n"
     ]
    }
   ],
   "source": [
    "MyFunc('asd')\n",
    "a = \"Default\"\n",
    "MyFunc(a)\n",
    "name = \"Indeed Inspiring\"\n",
    "MyFunc(name)"
   ]
  },
  {
   "cell_type": "code",
   "execution_count": 5,
   "metadata": {},
   "outputs": [],
   "source": [
    "def MyFunc1():\n",
    "    print('Hello')\n",
    "    return(1)"
   ]
  },
  {
   "cell_type": "code",
   "execution_count": 9,
   "metadata": {},
   "outputs": [
    {
     "name": "stdout",
     "output_type": "stream",
     "text": [
      "Hello\n"
     ]
    },
    {
     "data": {
      "text/plain": [
       "1"
      ]
     },
     "execution_count": 9,
     "metadata": {},
     "output_type": "execute_result"
    }
   ],
   "source": [
    "MyFunc1()\n",
    "\n",
    "i = MyFunc1()\n",
    "# print(i)"
   ]
  },
  {
   "cell_type": "code",
   "execution_count": null,
   "metadata": {},
   "outputs": [],
   "source": [
    "def Calc(a,b,c):\n",
    "    if c=='+':\n",
    "        print('sum (if) : ', a+b)\n",
    "    print('sum : ', a+b)\n",
    "    print('sub : ', a-b)"
   ]
  },
  {
   "cell_type": "code",
   "execution_count": null,
   "metadata": {},
   "outputs": [],
   "source": [
    "Calc(10,20,'+')"
   ]
  },
  {
   "cell_type": "code",
   "execution_count": null,
   "metadata": {},
   "outputs": [],
   "source": [
    "pi = 3.14\n",
    "def area(r):\n",
    "    area = pi*r*r\n",
    "    print(\"Area of circle is : \", area)\n",
    "r = float(input(\"Enter the radius of the circle: \"))\n",
    "area(r)"
   ]
  },
  {
   "cell_type": "code",
   "execution_count": null,
   "metadata": {},
   "outputs": [],
   "source": [
    "def arear(r):\n",
    "    area = pi*r*r\n",
    "    return(area)\n",
    "r = float(input(\"Enter the radius of the circle: \"))\n",
    "result = arear(r)\n",
    "print(\"Area of the Circle is : \", result)"
   ]
  },
  {
   "cell_type": "code",
   "execution_count": null,
   "metadata": {},
   "outputs": [],
   "source": [
    "def sum(a,b,c):\n",
    "    print(\"a+b : \", a+b)\n",
    "    print(\"b+c : \", b+c)\n",
    "    \n",
    "sum(1,2,3)"
   ]
  }
 ],
 "metadata": {
  "kernelspec": {
   "display_name": "Python 3",
   "language": "python",
   "name": "python3"
  },
  "language_info": {
   "codemirror_mode": {
    "name": "ipython",
    "version": 3
   },
   "file_extension": ".py",
   "mimetype": "text/x-python",
   "name": "python",
   "nbconvert_exporter": "python",
   "pygments_lexer": "ipython3",
   "version": "3.7.3"
  }
 },
 "nbformat": 4,
 "nbformat_minor": 2
}
